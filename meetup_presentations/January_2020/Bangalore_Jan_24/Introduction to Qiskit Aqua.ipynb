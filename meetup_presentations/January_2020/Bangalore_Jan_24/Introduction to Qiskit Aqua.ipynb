{
 "cells": [
  {
   "cell_type": "markdown",
   "metadata": {},
   "source": [
    "<body style=\"display:inline-block\">\n",
    "    <img src=\"https://miro.medium.com/max/487/1*TkjDikCWifEtUtvomQr4sg.jpeg\" width=\"200px\" height=\"200px\" align=\"left\">\n",
    "    <img src=\"https://avatars3.githubusercontent.com/u/30696987?s=280&v=4\" width=\"180px\" height=\"180px\" align=\"right\">    \n",
    "</body>    "
   ]
  },
  {
   "cell_type": "markdown",
   "metadata": {},
   "source": [
    "<p style=\"font-family: 'Optima', sans-serif; font-size:30px\">An introduction to quantum machine learning with QISkit aqua</p>\n",
    "<br>"
   ]
  },
  {
   "cell_type": "markdown",
   "metadata": {},
   "source": [
    "<p style=\"font-family: 'Optima', sans-serif; font-size:20px\">Experimenting with Quantum Support Vector Machines</p><br>"
   ]
  },
  {
   "cell_type": "markdown",
   "metadata": {},
   "source": [
    "<p style=\"font-family: 'Optima', sans-serif; font-size:18px\">Importing the Data</p>"
   ]
  },
  {
   "cell_type": "markdown",
   "metadata": {},
   "source": [
    "<p style=\"font-family: 'Optima', sans-serif; font-size:14px\">The data we'll be using is present in the data.py file that came along with this notebook:</p>"
   ]
  },
  {
   "cell_type": "code",
   "execution_count": 11,
   "metadata": {},
   "outputs": [],
   "source": [
    "from data import trainingData, testData, predData, classMappings"
   ]
  },
  {
   "cell_type": "markdown",
   "metadata": {},
   "source": [
    "<p style=\"font-family: 'Optima', sans-serif; font-size:14px\">We can plot some of the data we just imported to see what it looks like:</p>"
   ]
  },
  {
   "cell_type": "code",
   "execution_count": 12,
   "metadata": {},
   "outputs": [
    {
     "data": {
      "image/png": "[encoded data removed]",
      "text/plain": [
       "<Figure size 432x288 with 1 Axes>"
      ]
     },
     "metadata": {
      "needs_background": "light"
     },
     "output_type": "display_data"
    }
   ],
   "source": [
    "import matplotlib.pyplot as plt\n",
    "\n",
    "fig, ax = plt.subplots()\n",
    "ax.set(xlabel='Data Feature 1', ylabel='Data Feature 2')\n",
    "\n",
    "plt.plot(trainingData['red'], 'ro')\n",
    "plt.plot(trainingData['blue'], 'bo')\n",
    "plt.axis([-1, 7.5, -1, 7.5])\n",
    "\n",
    "plt.show()"
   ]
  },
  {
   "cell_type": "markdown",
   "metadata": {},
   "source": [
    "<p style=\"font-family: 'Optima', sans-serif; font-size:14px\">Just by looking at the data, it is obvious that no hyperplane can be used to accurately classify the data, so we need to use the kernel trick, which we will do with aqua's QSVM algorithm.</p>"
   ]
  },
  {
   "cell_type": "markdown",
   "metadata": {},
   "source": [
    "<p style=\"font-family: 'Optima', sans-serif; font-size:18px\">Importing required Aqua modules</p>"
   ]
  },
  {
   "cell_type": "markdown",
   "metadata": {},
   "source": [
    "<p style=\"font-family: 'Optima', sans-serif; font-size:14px\">We need to import all the modules from aqua that we will be using:</p>"
   ]
  },
  {
   "cell_type": "code",
   "execution_count": 13,
   "metadata": {},
   "outputs": [],
   "source": [
    "from qiskit import Aer\n",
    "from qiskit.aqua import run_algorithm, QuantumInstance\n",
    "from qiskit.aqua.algorithms import QSVM\n",
    "from qiskit.aqua.components.feature_maps import SecondOrderExpansion"
   ]
  },
  {
   "cell_type": "markdown",
   "metadata": {},
   "source": [
    "<p style=\"font-family: 'Optima', sans-serif; font-size:18px\">Building the SVM</p>"
   ]
  },
  {
   "cell_type": "markdown",
   "metadata": {},
   "source": [
    "<p style=\"font-family: 'Optima', sans-serif; font-size:14px\">Since we are using aqua, we don't have to worry about the actual (i.e. gate level) implementation of the algorithms we use, we can just call them using the qiskit API:</p>"
   ]
  },
  {
   "cell_type": "code",
   "execution_count": 15,
   "metadata": {},
   "outputs": [],
   "source": [
    "seed = 10598\n",
    "\n",
    "featureMap = SecondOrderExpansion(feature_dimension=2, depth=2, entanglement='linear')\n",
    "\n",
    "qsvm = QSVM(featureMap, trainingData, testData, predData[0])"
   ]
  },
  {
   "cell_type": "markdown",
   "metadata": {},
   "source": [
    "<p style=\"font-family: 'Optima', sans-serif; font-size:18px\">Running the qiskit job</p>"
   ]
  },
  {
   "cell_type": "markdown",
   "metadata": {},
   "source": [
    "To execute the circuits we built, we need to use one of qiskit aer's backends, and aqua's QuantumInstance function:"
   ]
  },
  {
   "cell_type": "code",
   "execution_count": 16,
   "metadata": {},
   "outputs": [],
   "source": [
    "backend = Aer.get_backend('qasm_simulator')\n",
    "quantum_instance = QuantumInstance(backend, shots=1024, seed_simulator=seed, seed_transpiler=seed)\n",
    "\n",
    "result = qsvm.run(quantum_instance)"
   ]
  },
  {
   "cell_type": "markdown",
   "metadata": {},
   "source": [
    "<p style=\"font-family: 'Optima', sans-serif; font-size:18px\">Model performance</p>"
   ]
  },
  {
   "cell_type": "markdown",
   "metadata": {},
   "source": [
    "<p style=\"font-family: 'Optima', sans-serif; font-size:14px\">aqua also provides us with a super easy way to analyse model performance through the result object:</p>"
   ]
  },
  {
   "cell_type": "code",
   "execution_count": 20,
   "metadata": {},
   "outputs": [
    {
     "name": "stdout",
     "output_type": "stream",
     "text": [
      "Testing success ratio: 1.0\n",
      "Prediction of datapoints:\n",
      "Ground Truth: [0, 0, 0, 0, 0, 0, 0, 0, 0, 0, 1, 1, 1, 1, 1, 1, 1, 1, 1, 1]\n",
      "Prediction:   [0, 0, 0, 0, 0, 0, 0, 0, 0, 0, 1, 1, 1, 1, 1, 1, 1, 1, 1, 1]\n"
     ]
    }
   ],
   "source": [
    "print(\"Testing success ratio: {}\".format(result['testing_accuracy']))\n",
    "\n",
    "print(\"Prediction of datapoints:\")\n",
    "print(\"Ground Truth: {}\".format(list(predData[1])))\n",
    "print(\"Prediction:   {}\".format(list(map(lambda x: 1 if x == 'blue' else 0, result['predicted_classes']))))"
   ]
  }
 ],
 "metadata": {
  "kernelspec": {
   "display_name": "Python 3",
   "language": "python",
   "name": "python3"
  },
  "language_info": {
   "codemirror_mode": {
    "name": "ipython",
    "version": 3
   },
   "file_extension": ".py",
   "mimetype": "text/x-python",
   "name": "python",
   "nbconvert_exporter": "python",
   "pygments_lexer": "ipython3",
   "version": "3.6.6"
  }
 },
 "nbformat": 4,
 "nbformat_minor": 4
}
